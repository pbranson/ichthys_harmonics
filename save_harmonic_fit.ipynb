{
 "cells": [
  {
   "attachments": {},
   "cell_type": "markdown",
   "id": "14da0f1f",
   "metadata": {},
   "source": [
    "## Perform and save harmonic fit for Ichthys data\n",
    "\n",
    "Fitting the records of currents from P1, CPF, Titan, and Fblock\n",
    "\n",
    "Author: William Edge\n",
    "\n",
    "Created: 04/10/23"
   ]
  },
  {
   "cell_type": "code",
   "execution_count": 10,
   "id": "a06e83fe",
   "metadata": {},
   "outputs": [],
   "source": [
    "import os\n",
    "import numpy as np\n",
    "import xarray as xr\n",
    "from ichthys_harmonics.utils import pop_timevars, murphy_ss\n",
    "from ichthys_harmonics.harmonic_funcs import pca_rotate_data\n",
    "from ichthys_harmonics.harmonic_lstsq import harmonic_fit, least_squares_prediction, print_comb_skillscores"
   ]
  },
  {
   "attachments": {},
   "cell_type": "markdown",
   "id": "fd3352cb",
   "metadata": {},
   "source": [
    "#### Load mooring data"
   ]
  },
  {
   "cell_type": "code",
   "execution_count": 11,
   "id": "cd4ec566",
   "metadata": {},
   "outputs": [],
   "source": [
    "### Select mooring\n",
    "# moor = 'IchthysP1'\n",
    "# moor = 'Fblock'\n",
    "# moor = 'Ichthys_CPF'\n",
    "moor = 'titanichthys'\n",
    "\n",
    "# Load data\n",
    "ds = xr.open_dataset(os.path.join('measured_data', moor + '_nearbed_currents_10minutes.nc'))"
   ]
  },
  {
   "cell_type": "code",
   "execution_count": 12,
   "id": "23b2f3ff",
   "metadata": {},
   "outputs": [
    {
     "name": "stdout",
     "output_type": "stream",
     "text": [
      "Skill score: 83.43%\n",
      "Skill score: 98.13%\n",
      "Skill score: 61.95%\n",
      "Skill score: 19.28%\n",
      "North-South combined score: 84.55%\n",
      "East-West combined score: 74.59%\n",
      "Total speed score: 62.57%\n"
     ]
    }
   ],
   "source": [
    "# Barotropic rotations\n",
    "nanx = ~np.isnan(ds['v_depavg'].values)\n",
    "U_rot, V_rot, theta = pca_rotate_data(ds['u_depavg'].values[nanx], ds['v_depavg'].values[nanx])\n",
    "\n",
    "# Barotropic North-South tide: run and save\n",
    "ha_ls_BTNS = harmonic_fit(ds['time'].values[nanx], V_rot, ds_attrs=ds.attrs)\n",
    "ha_ls_BTNS.attrs['pca_angle'] = theta\n",
    "ha_ls_BTNS = pop_timevars(ha_ls_BTNS)\n",
    "fname = os.path.join('fits', moor + '_BTNS_harmonic_fit.nc')\n",
    "ha_ls_BTNS.to_netcdf(fname)\n",
    "\n",
    "# Barotropic East-West tide: run and save\n",
    "ha_ls_BTEW = harmonic_fit(ds['time'].values[nanx], U_rot, ds_attrs=ds.attrs)\n",
    "ha_ls_BTEW.attrs['pca_angle'] = theta\n",
    "ha_ls_BTEW = pop_timevars(ha_ls_BTEW)\n",
    "fname = os.path.join('fits', moor + '_BTEW_harmonic_fit.nc')\n",
    "ha_ls_BTEW.to_netcdf(fname)\n",
    "\n",
    "\n",
    "# Baroclinic rotations\n",
    "nanx = ~np.isnan(ds['v_meas'].values)\n",
    "U_rot, V_rot, theta = pca_rotate_data((ds['u_meas'].values - ds['u_depavg'].values)[nanx],\\\n",
    "                                      (ds['v_meas'].values - ds['v_depavg'].values)[nanx])\n",
    "\n",
    "# Baroclinic North-South tide: run and save\n",
    "ha_ls_ITNS = harmonic_fit(ds['time'].values[nanx], V_rot, ds_attrs=ds.attrs)\n",
    "ha_ls_ITNS.attrs['pca_angle'] = theta\n",
    "ha_ls_ITNS = pop_timevars(ha_ls_ITNS)\n",
    "fname = os.path.join('fits', moor + '_ITNS_harmonic_fit.nc')\n",
    "ha_ls_ITNS.to_netcdf(fname)\n",
    "\n",
    "# Baroclinic East-West tide: run and save\n",
    "ha_ls_ITEW = harmonic_fit(ds['time'].values[nanx], U_rot, ds_attrs=ds.attrs)\n",
    "ha_ls_ITEW.attrs['pca_angle'] = theta\n",
    "ha_ls_ITEW = pop_timevars(ha_ls_ITEW)\n",
    "fname = os.path.join('fits', moor + '_ITEW_harmonic_fit.nc')\n",
    "ha_ls_ITEW.to_netcdf(fname)\n",
    "\n",
    "# Print the total skill score\n",
    "print_comb_skillscores(ds, ha_ls_BTNS, ha_ls_BTEW, ha_ls_ITNS, ha_ls_ITEW)"
   ]
  },
  {
   "cell_type": "code",
   "execution_count": null,
   "id": "d7b58478",
   "metadata": {},
   "outputs": [],
   "source": []
  }
 ],
 "metadata": {
  "kernelspec": {
   "display_name": "Python 3 (ipykernel)",
   "language": "python",
   "name": "python3"
  },
  "language_info": {
   "codemirror_mode": {
    "name": "ipython",
    "version": 3
   },
   "file_extension": ".py",
   "mimetype": "text/x-python",
   "name": "python",
   "nbconvert_exporter": "python",
   "pygments_lexer": "ipython3",
   "version": "3.10.11"
  }
 },
 "nbformat": 4,
 "nbformat_minor": 5
}
